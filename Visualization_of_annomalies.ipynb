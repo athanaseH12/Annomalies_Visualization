{
 "cells": [
  {
   "cell_type": "code",
   "execution_count": 181,
   "id": "e21e1016",
   "metadata": {
    "id": "e21e1016"
   },
   "outputs": [],
   "source": [
    "import numpy as np\n",
    "import seaborn as sns\n",
    "import pandas as pd\n",
    "from netCDF4 import Dataset\n",
    "import matplotlib.pyplot as plt\n",
    "import warnings\n",
    "warnings.filterwarnings(\"ignore\")\n"
   ]
  },
  {
   "cell_type": "code",
   "execution_count": 182,
   "id": "qW7PucBKRMWy",
   "metadata": {
    "colab": {
     "base_uri": "https://localhost:8080/"
    },
    "id": "qW7PucBKRMWy",
    "outputId": "186ec9e2-f218-4ac6-d03e-3035423b6f95"
   },
   "outputs": [],
   "source": [
    "#pip install netCDF4"
   ]
  },
  {
   "cell_type": "code",
   "execution_count": 183,
   "id": "b388e64f",
   "metadata": {
    "id": "b388e64f"
   },
   "outputs": [],
   "source": [
    "data0 =\"chirps_1985_2004_remapnn_Kigali.nc\"\n",
    "ncin0 = Dataset(data0)\n",
    "precip0  = ncin0.variables['precip'][:,:,:] \n",
    "lat  = ncin0.variables['lat'][:]\n",
    "time =ncin0.variables['time'][:]\n",
    "lon  = ncin0.variables['lon'][:]\n",
    "ncin0.close()\n",
    "nt,nlat,nlon = precip0.shape\n"
   ]
  },
  {
   "cell_type": "code",
   "execution_count": 184,
   "id": "a15cda64",
   "metadata": {},
   "outputs": [
    {
     "name": "stdout",
     "output_type": "stream",
     "text": [
      "20 1 1\n"
     ]
    }
   ],
   "source": [
    "print(nt,nlat,nlon)"
   ]
  },
  {
   "cell_type": "code",
   "execution_count": 185,
   "id": "0875a829",
   "metadata": {
    "colab": {
     "base_uri": "https://localhost:8080/"
    },
    "id": "0875a829",
    "outputId": "7d7cb38c-d1b0-4da4-91f2-80608f893c48"
   },
   "outputs": [
    {
     "name": "stdout",
     "output_type": "stream",
     "text": [
      "[ 0.71755165 -0.18599972  0.2696255   0.8752842   0.43816242  0.64033055\n",
      " -0.23467943 -1.589271   -1.3496654   0.9738017  -0.27076268 -0.79767853\n",
      "  0.9936196   0.98595434 -1.4206723  -1.9081683   1.5552777  -0.18511577\n",
      " -0.69085574  1.1832612 ]\n"
     ]
    }
   ],
   "source": [
    "precipitation=SAT0.flatten()\n",
    "print(precipitation)"
   ]
  },
  {
   "cell_type": "code",
   "execution_count": 186,
   "id": "t2GtEt02yGcc",
   "metadata": {
    "colab": {
     "base_uri": "https://localhost:8080/"
    },
    "id": "t2GtEt02yGcc",
    "outputId": "ee28c4fb-4ecf-453a-98a6-13db5fcde383"
   },
   "outputs": [
    {
     "data": {
      "text/plain": [
       "masked_array(data=[2007.75, 2372.75, 2737.75, 3103.75, 3468.75, 3833.75,\n",
       "                   4198.75, 4564.75, 4929.75, 5294.75, 5659.75, 6025.75,\n",
       "                   6390.75, 6755.75, 7120.75, 7486.75, 7851.75, 8216.75,\n",
       "                   8581.75, 8947.75],\n",
       "             mask=False,\n",
       "       fill_value=1e+20,\n",
       "            dtype=float32)"
      ]
     },
     "execution_count": 186,
     "metadata": {},
     "output_type": "execute_result"
    }
   ],
   "source": [
    "tim= time.flatten()\n",
    "tim"
   ]
  },
  {
   "cell_type": "code",
   "execution_count": 187,
   "id": "1abdf563",
   "metadata": {
    "colab": {
     "base_uri": "https://localhost:8080/"
    },
    "id": "1abdf563",
    "outputId": "19a90a78-7bf8-4e88-8be2-70bc983b6bdc"
   },
   "outputs": [
    {
     "name": "stdout",
     "output_type": "stream",
     "text": [
      "    years  precipAnnomalies\n",
      "0    1985          0.717552\n",
      "1    1986         -0.186000\n",
      "2    1987          0.269626\n",
      "3    1988          0.875284\n",
      "4    1989          0.438162\n",
      "5    1990          0.640331\n",
      "6    1991         -0.234679\n",
      "7    1992         -1.589271\n",
      "8    1993         -1.349665\n",
      "9    1994          0.973802\n",
      "10   1995         -0.270763\n",
      "11   1996         -0.797679\n",
      "12   1997          0.993620\n",
      "13   1998          0.985954\n",
      "14   1999         -1.420672\n",
      "15   2000         -1.908168\n",
      "16   2001          1.555278\n",
      "17   2002         -0.185116\n",
      "18   2003         -0.690856\n",
      "19   2004          1.183261\n"
     ]
    }
   ],
   "source": [
    "\n",
    "\n",
    "# initialise data of lists.\n",
    "\n",
    "Dictionary = {\"years\":[1985,1986,1987,1988,1989,1990,1991,1992,1993,1994,1995,1996,1997,1998,1999,2000,2001,2002,2003,2004],'precipAnnomalies':precipitation}\n",
    " \n",
    "# Create DataFrame\n",
    "\n",
    "T2M = pd.DataFrame(Dictionary)\n",
    "\n",
    " \n",
    "# Print the output.\n",
    "\n",
    "print(T2M)"
   ]
  },
  {
   "cell_type": "code",
   "execution_count": 188,
   "id": "8098e579",
   "metadata": {
    "id": "8098e579"
   },
   "outputs": [],
   "source": [
    "r1=T2M[\"years\"]\n",
    "r2=T2M[\"precipAnnomalies\"]"
   ]
  },
  {
   "cell_type": "code",
   "execution_count": 189,
   "id": "94ff1d45",
   "metadata": {},
   "outputs": [],
   "source": [
    "T2M['positive'] = T2M['precipAnnomalies'] > 0"
   ]
  },
  {
   "cell_type": "code",
   "execution_count": 190,
   "id": "67a039eb",
   "metadata": {},
   "outputs": [
    {
     "data": {
      "text/html": [
       "<div>\n",
       "<style scoped>\n",
       "    .dataframe tbody tr th:only-of-type {\n",
       "        vertical-align: middle;\n",
       "    }\n",
       "\n",
       "    .dataframe tbody tr th {\n",
       "        vertical-align: top;\n",
       "    }\n",
       "\n",
       "    .dataframe thead th {\n",
       "        text-align: right;\n",
       "    }\n",
       "</style>\n",
       "<table border=\"1\" class=\"dataframe\">\n",
       "  <thead>\n",
       "    <tr style=\"text-align: right;\">\n",
       "      <th></th>\n",
       "      <th>precipAnnomalies</th>\n",
       "      <th>positive</th>\n",
       "    </tr>\n",
       "    <tr>\n",
       "      <th>years</th>\n",
       "      <th></th>\n",
       "      <th></th>\n",
       "    </tr>\n",
       "  </thead>\n",
       "  <tbody>\n",
       "    <tr>\n",
       "      <th>1985</th>\n",
       "      <td>0.717552</td>\n",
       "      <td>True</td>\n",
       "    </tr>\n",
       "    <tr>\n",
       "      <th>1986</th>\n",
       "      <td>-0.186000</td>\n",
       "      <td>False</td>\n",
       "    </tr>\n",
       "    <tr>\n",
       "      <th>1987</th>\n",
       "      <td>0.269626</td>\n",
       "      <td>True</td>\n",
       "    </tr>\n",
       "    <tr>\n",
       "      <th>1988</th>\n",
       "      <td>0.875284</td>\n",
       "      <td>True</td>\n",
       "    </tr>\n",
       "    <tr>\n",
       "      <th>1989</th>\n",
       "      <td>0.438162</td>\n",
       "      <td>True</td>\n",
       "    </tr>\n",
       "    <tr>\n",
       "      <th>1990</th>\n",
       "      <td>0.640331</td>\n",
       "      <td>True</td>\n",
       "    </tr>\n",
       "    <tr>\n",
       "      <th>1991</th>\n",
       "      <td>-0.234679</td>\n",
       "      <td>False</td>\n",
       "    </tr>\n",
       "    <tr>\n",
       "      <th>1992</th>\n",
       "      <td>-1.589271</td>\n",
       "      <td>False</td>\n",
       "    </tr>\n",
       "    <tr>\n",
       "      <th>1993</th>\n",
       "      <td>-1.349665</td>\n",
       "      <td>False</td>\n",
       "    </tr>\n",
       "    <tr>\n",
       "      <th>1994</th>\n",
       "      <td>0.973802</td>\n",
       "      <td>True</td>\n",
       "    </tr>\n",
       "    <tr>\n",
       "      <th>1995</th>\n",
       "      <td>-0.270763</td>\n",
       "      <td>False</td>\n",
       "    </tr>\n",
       "    <tr>\n",
       "      <th>1996</th>\n",
       "      <td>-0.797679</td>\n",
       "      <td>False</td>\n",
       "    </tr>\n",
       "    <tr>\n",
       "      <th>1997</th>\n",
       "      <td>0.993620</td>\n",
       "      <td>True</td>\n",
       "    </tr>\n",
       "    <tr>\n",
       "      <th>1998</th>\n",
       "      <td>0.985954</td>\n",
       "      <td>True</td>\n",
       "    </tr>\n",
       "    <tr>\n",
       "      <th>1999</th>\n",
       "      <td>-1.420672</td>\n",
       "      <td>False</td>\n",
       "    </tr>\n",
       "    <tr>\n",
       "      <th>2000</th>\n",
       "      <td>-1.908168</td>\n",
       "      <td>False</td>\n",
       "    </tr>\n",
       "    <tr>\n",
       "      <th>2001</th>\n",
       "      <td>1.555278</td>\n",
       "      <td>True</td>\n",
       "    </tr>\n",
       "    <tr>\n",
       "      <th>2002</th>\n",
       "      <td>-0.185116</td>\n",
       "      <td>False</td>\n",
       "    </tr>\n",
       "    <tr>\n",
       "      <th>2003</th>\n",
       "      <td>-0.690856</td>\n",
       "      <td>False</td>\n",
       "    </tr>\n",
       "    <tr>\n",
       "      <th>2004</th>\n",
       "      <td>1.183261</td>\n",
       "      <td>True</td>\n",
       "    </tr>\n",
       "  </tbody>\n",
       "</table>\n",
       "</div>"
      ],
      "text/plain": [
       "       precipAnnomalies  positive\n",
       "years                            \n",
       "1985           0.717552      True\n",
       "1986          -0.186000     False\n",
       "1987           0.269626      True\n",
       "1988           0.875284      True\n",
       "1989           0.438162      True\n",
       "1990           0.640331      True\n",
       "1991          -0.234679     False\n",
       "1992          -1.589271     False\n",
       "1993          -1.349665     False\n",
       "1994           0.973802      True\n",
       "1995          -0.270763     False\n",
       "1996          -0.797679     False\n",
       "1997           0.993620      True\n",
       "1998           0.985954      True\n",
       "1999          -1.420672     False\n",
       "2000          -1.908168     False\n",
       "2001           1.555278      True\n",
       "2002          -0.185116     False\n",
       "2003          -0.690856     False\n",
       "2004           1.183261      True"
      ]
     },
     "execution_count": 190,
     "metadata": {},
     "output_type": "execute_result"
    }
   ],
   "source": [
    "TX=T2M.set_index('years')\n",
    "TX"
   ]
  },
  {
   "cell_type": "code",
   "execution_count": 191,
   "id": "2ff5ee94",
   "metadata": {
    "colab": {
     "base_uri": "https://localhost:8080/",
     "height": 458
    },
    "id": "2ff5ee94",
    "outputId": "25ad2b3d-9c11-47a3-8578-3b82322f114b"
   },
   "outputs": [
    {
     "data": {
      "image/png": "[encoded data removed]",
      "text/plain": [
       "<Figure size 864x504 with 1 Axes>"
      ]
     },
     "metadata": {},
     "output_type": "display_data"
    }
   ],
   "source": [
    "plt.figure(figsize=(12,7))\n",
    "\n",
    "sns.set_style(\"whitegrid\")\n",
    "ax1 = sns.lineplot(x=r1, y=r2, data=T2M,color=\"green\",label=\"observed pattern\")\n",
    "ax1 = sns.scatterplot(x=r1, y=r2, data=T2M,color=\"k\")\n",
    "ax1.set_xticks(range(1985,2005,1))\n",
    "ax1.set_yticks(np.arange(-2,2.2,0.2))\n",
    "ax1.set(xlabel=\"years\",ylabel=\"[mm /year]\")\n",
    "y1=T2M[\"years\"]\n",
    "y2=T2M[\"precipAnnomalies\"]\n",
    "z4=np.polyfit(y1,y2,1) \n",
    "p =z4[0]*y1+z4[1]\n",
    "sns.lineplot(x=y1,y=p,color=\"brown\",label=\"Precipitation Mean\",linewidth= 2);\n",
    "plt.title(\"Standardized annomalies for Kigali\");"
   ]
  },
  {
   "cell_type": "code",
   "execution_count": 192,
   "id": "a667165d",
   "metadata": {
    "colab": {
     "base_uri": "https://localhost:8080/"
    },
    "id": "a667165d",
    "outputId": "0ba6a938-8af6-4537-f202-65aa401500da"
   },
   "outputs": [
    {
     "data": {
      "text/plain": [
       "array([-1.51907169e-02,  3.02978849e+01])"
      ]
     },
     "execution_count": 192,
     "metadata": {},
     "output_type": "execute_result"
    }
   ],
   "source": [
    "z4"
   ]
  },
  {
   "cell_type": "code",
   "execution_count": 194,
   "id": "6f2e2f02",
   "metadata": {},
   "outputs": [
    {
     "data": {
      "image/png": "[encoded data removed]",
      "text/plain": [
       "<Figure size 864x504 with 1 Axes>"
      ]
     },
     "metadata": {},
     "output_type": "display_data"
    }
   ],
   "source": [
    "\n",
    "TX['precipAnnomalies'].plot(\n",
    "    figsize=(12,7),\n",
    "    kind='bar',\n",
    "    color=TX.positive.map({True: 'blue', False: 'red'}),\n",
    "    fontsize=12,\n",
    "    xlabel='\\nYear',\n",
    "    ylabel='Precipitation Anomaly',\n",
    "    title='\\nYearly anomalies\\n',\n",
    "    );"
   ]
  },
  {
   "cell_type": "code",
   "execution_count": null,
   "id": "b1e07176",
   "metadata": {},
   "outputs": [],
   "source": []
  },
  {
   "cell_type": "code",
   "execution_count": null,
   "id": "5f815a69",
   "metadata": {},
   "outputs": [],
   "source": []
  }
 ],
 "metadata": {
  "colab": {
   "provenance": [],
   "toc_visible": true
  },
  "kernelspec": {
   "display_name": "Python 3 (ipykernel)",
   "language": "python",
   "name": "python3"
  },
  "language_info": {
   "codemirror_mode": {
    "name": "ipython",
    "version": 3
   },
   "file_extension": ".py",
   "mimetype": "text/x-python",
   "name": "python",
   "nbconvert_exporter": "python",
   "pygments_lexer": "ipython3",
   "version": "3.9.12"
  }
 },
 "nbformat": 4,
 "nbformat_minor": 5
}
